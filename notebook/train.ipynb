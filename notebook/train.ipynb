{
 "cells": [
  {
   "cell_type": "code",
   "execution_count": 22,
   "id": "dffac730",
   "metadata": {},
   "outputs": [],
   "source": [
    "import pandas as pd\n",
    "import numpy as np\n",
    "from sklearn.ensemble import RandomForestRegressor\n",
    "from sklearn.metrics import mean_absolute_error, mean_squared_error\n",
    "from sklearn.linear_model import LinearRegression\n",
    "import joblib\n"
   ]
  },
  {
   "cell_type": "code",
   "execution_count": 13,
   "id": "f32847ad",
   "metadata": {},
   "outputs": [],
   "source": [
    "df=pd.read_csv('../data/daily_sales.csv')\n",
    "df['date'] = pd.to_datetime(df['date'])"
   ]
  },
  {
   "cell_type": "code",
   "execution_count": 14,
   "id": "2fa9a67f",
   "metadata": {},
   "outputs": [
    {
     "data": {
      "text/html": [
       "<div>\n",
       "<style scoped>\n",
       "    .dataframe tbody tr th:only-of-type {\n",
       "        vertical-align: middle;\n",
       "    }\n",
       "\n",
       "    .dataframe tbody tr th {\n",
       "        vertical-align: top;\n",
       "    }\n",
       "\n",
       "    .dataframe thead th {\n",
       "        text-align: right;\n",
       "    }\n",
       "</style>\n",
       "<table border=\"1\" class=\"dataframe\">\n",
       "  <thead>\n",
       "    <tr style=\"text-align: right;\">\n",
       "      <th></th>\n",
       "      <th>date</th>\n",
       "      <th>total_sales</th>\n",
       "      <th>year</th>\n",
       "      <th>month</th>\n",
       "      <th>day</th>\n",
       "      <th>dayofweek</th>\n",
       "      <th>is_weekend</th>\n",
       "      <th>sales_yesterday</th>\n",
       "      <th>sales_last_week</th>\n",
       "      <th>sales_avg_7d</th>\n",
       "      <th>sales_avg_30d</th>\n",
       "    </tr>\n",
       "  </thead>\n",
       "  <tbody>\n",
       "    <tr>\n",
       "      <th>0</th>\n",
       "      <td>2013-01-01</td>\n",
       "      <td>2511.618999</td>\n",
       "      <td>2013</td>\n",
       "      <td>1</td>\n",
       "      <td>1</td>\n",
       "      <td>1</td>\n",
       "      <td>0</td>\n",
       "      <td>NaN</td>\n",
       "      <td>NaN</td>\n",
       "      <td>NaN</td>\n",
       "      <td>NaN</td>\n",
       "    </tr>\n",
       "    <tr>\n",
       "      <th>1</th>\n",
       "      <td>2013-01-02</td>\n",
       "      <td>496092.417944</td>\n",
       "      <td>2013</td>\n",
       "      <td>1</td>\n",
       "      <td>2</td>\n",
       "      <td>2</td>\n",
       "      <td>0</td>\n",
       "      <td>2511.618999</td>\n",
       "      <td>NaN</td>\n",
       "      <td>NaN</td>\n",
       "      <td>NaN</td>\n",
       "    </tr>\n",
       "    <tr>\n",
       "      <th>2</th>\n",
       "      <td>2013-01-03</td>\n",
       "      <td>361461.231124</td>\n",
       "      <td>2013</td>\n",
       "      <td>1</td>\n",
       "      <td>3</td>\n",
       "      <td>3</td>\n",
       "      <td>0</td>\n",
       "      <td>496092.417944</td>\n",
       "      <td>NaN</td>\n",
       "      <td>NaN</td>\n",
       "      <td>NaN</td>\n",
       "    </tr>\n",
       "    <tr>\n",
       "      <th>3</th>\n",
       "      <td>2013-01-04</td>\n",
       "      <td>354459.677093</td>\n",
       "      <td>2013</td>\n",
       "      <td>1</td>\n",
       "      <td>4</td>\n",
       "      <td>4</td>\n",
       "      <td>0</td>\n",
       "      <td>361461.231124</td>\n",
       "      <td>NaN</td>\n",
       "      <td>NaN</td>\n",
       "      <td>NaN</td>\n",
       "    </tr>\n",
       "    <tr>\n",
       "      <th>4</th>\n",
       "      <td>2013-01-05</td>\n",
       "      <td>477350.121229</td>\n",
       "      <td>2013</td>\n",
       "      <td>1</td>\n",
       "      <td>5</td>\n",
       "      <td>5</td>\n",
       "      <td>1</td>\n",
       "      <td>354459.677093</td>\n",
       "      <td>NaN</td>\n",
       "      <td>NaN</td>\n",
       "      <td>NaN</td>\n",
       "    </tr>\n",
       "  </tbody>\n",
       "</table>\n",
       "</div>"
      ],
      "text/plain": [
       "        date    total_sales  year  month  day  dayofweek  is_weekend  \\\n",
       "0 2013-01-01    2511.618999  2013      1    1          1           0   \n",
       "1 2013-01-02  496092.417944  2013      1    2          2           0   \n",
       "2 2013-01-03  361461.231124  2013      1    3          3           0   \n",
       "3 2013-01-04  354459.677093  2013      1    4          4           0   \n",
       "4 2013-01-05  477350.121229  2013      1    5          5           1   \n",
       "\n",
       "   sales_yesterday  sales_last_week  sales_avg_7d  sales_avg_30d  \n",
       "0              NaN              NaN           NaN            NaN  \n",
       "1      2511.618999              NaN           NaN            NaN  \n",
       "2    496092.417944              NaN           NaN            NaN  \n",
       "3    361461.231124              NaN           NaN            NaN  \n",
       "4    354459.677093              NaN           NaN            NaN  "
      ]
     },
     "execution_count": 14,
     "metadata": {},
     "output_type": "execute_result"
    }
   ],
   "source": [
    "df.head()"
   ]
  },
  {
   "cell_type": "code",
   "execution_count": 15,
   "id": "8e73e35e",
   "metadata": {},
   "outputs": [
    {
     "data": {
      "text/plain": [
       "(1684, 11)"
      ]
     },
     "execution_count": 15,
     "metadata": {},
     "output_type": "execute_result"
    }
   ],
   "source": [
    "df.shape"
   ]
  },
  {
   "cell_type": "code",
   "execution_count": 16,
   "id": "00e0ef6c",
   "metadata": {},
   "outputs": [],
   "source": [
    "feature_cols = ['year', 'month', 'day', 'dayofweek', 'is_weekend', \n",
    "                'sales_yesterday', 'sales_last_week', 'sales_avg_7d', 'sales_avg_30d']"
   ]
  },
  {
   "cell_type": "code",
   "execution_count": 18,
   "id": "2dbe82ef",
   "metadata": {},
   "outputs": [
    {
     "name": "stdout",
     "output_type": "stream",
     "text": [
      "Shape of the cleaned data: (1655, 11)\n"
     ]
    }
   ],
   "source": [
    "df_clean=df.dropna()\n",
    "print('Shape of the cleaned data:', df_clean.shape)"
   ]
  },
  {
   "cell_type": "code",
   "execution_count": 19,
   "id": "29d60d71",
   "metadata": {},
   "outputs": [
    {
     "name": "stdout",
     "output_type": "stream",
     "text": [
      "Clean data shape: (1655, 11)\n",
      "Train: 1624, Test: 31\n"
     ]
    }
   ],
   "source": [
    "df_clean = df.dropna()\n",
    "print(f\"Clean data shape: {df_clean.shape}\")\n",
    "\n",
    "# Cell 3: Train/test split\n",
    "split_date = df_clean['date'].max() - pd.DateOffset(days=30)\n",
    "train_data = df_clean[df_clean['date'] < split_date]\n",
    "test_data = df_clean[df_clean['date'] >= split_date]\n",
    "\n",
    "X_train = train_data[feature_cols]\n",
    "y_train = train_data['total_sales']\n",
    "X_test = test_data[feature_cols]\n",
    "y_test = test_data['total_sales']\n",
    "\n",
    "print(f\"Train: {len(X_train)}, Test: {len(X_test)}\")"
   ]
  },
  {
   "cell_type": "code",
   "execution_count": 20,
   "id": "30849068",
   "metadata": {},
   "outputs": [
    {
     "name": "stdout",
     "output_type": "stream",
     "text": [
      "Linear MAE: $64,902\n",
      "Random Forest MAE: $51,007\n"
     ]
    }
   ],
   "source": [
    "models = {\n",
    "    'Linear': LinearRegression(),\n",
    "    'Random Forest': RandomForestRegressor(n_estimators=50, random_state=42)\n",
    "}\n",
    "\n",
    "results = {}\n",
    "for name, model in models.items():\n",
    "    model.fit(X_train, y_train)\n",
    "    pred = model.predict(X_test)\n",
    "    pred = np.maximum(pred, 0)\n",
    "    \n",
    "    mae = mean_absolute_error(y_test, pred)\n",
    "    results[name] = mae\n",
    "    \n",
    "    print(f\"{name} MAE: ${mae:,.0f}\")"
   ]
  },
  {
   "cell_type": "code",
   "execution_count": 21,
   "id": "2bc10d14",
   "metadata": {},
   "outputs": [],
   "source": [
    "best_model_name = min(results, key=results.get)\n",
    "best_model = models[best_model_name]"
   ]
  },
  {
   "cell_type": "code",
   "execution_count": 23,
   "id": "2867fb97",
   "metadata": {},
   "outputs": [
    {
     "name": "stdout",
     "output_type": "stream",
     "text": [
      "Best model: Random Forest\n",
      "Model saved!\n"
     ]
    }
   ],
   "source": [
    "joblib.dump(best_model, '../models/best_model.pkl')\n",
    "\n",
    "print(f\"Best model: {best_model_name}\")\n",
    "print(\"Model saved!\")"
   ]
  },
  {
   "cell_type": "code",
   "execution_count": null,
   "id": "a065430c",
   "metadata": {},
   "outputs": [],
   "source": []
  }
 ],
 "metadata": {
  "kernelspec": {
   "display_name": "Python 3",
   "language": "python",
   "name": "python3"
  },
  "language_info": {
   "codemirror_mode": {
    "name": "ipython",
    "version": 3
   },
   "file_extension": ".py",
   "mimetype": "text/x-python",
   "name": "python",
   "nbconvert_exporter": "python",
   "pygments_lexer": "ipython3",
   "version": "3.10.18"
  }
 },
 "nbformat": 4,
 "nbformat_minor": 5
}
