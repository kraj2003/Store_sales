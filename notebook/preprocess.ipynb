{
 "cells": [
  {
   "cell_type": "code",
   "execution_count": 10,
   "id": "3c550e3e",
   "metadata": {},
   "outputs": [],
   "source": [
    "import pandas as pd\n",
    "import numpy as np\n",
    "import matplotlib.pyplot as plt \n",
    "from datetime import datetime"
   ]
  },
  {
   "cell_type": "code",
   "execution_count": 11,
   "id": "49e78c3f",
   "metadata": {},
   "outputs": [
    {
     "data": {
      "text/html": [
       "<div>\n",
       "<style scoped>\n",
       "    .dataframe tbody tr th:only-of-type {\n",
       "        vertical-align: middle;\n",
       "    }\n",
       "\n",
       "    .dataframe tbody tr th {\n",
       "        vertical-align: top;\n",
       "    }\n",
       "\n",
       "    .dataframe thead th {\n",
       "        text-align: right;\n",
       "    }\n",
       "</style>\n",
       "<table border=\"1\" class=\"dataframe\">\n",
       "  <thead>\n",
       "    <tr style=\"text-align: right;\">\n",
       "      <th></th>\n",
       "      <th>date</th>\n",
       "      <th>total_sales</th>\n",
       "      <th>year</th>\n",
       "      <th>month</th>\n",
       "      <th>day</th>\n",
       "      <th>dayofweek</th>\n",
       "      <th>is_weekend</th>\n",
       "      <th>sales_yesterday</th>\n",
       "      <th>sales_last_week</th>\n",
       "      <th>sales_avg_7d</th>\n",
       "      <th>sales_avg_30d</th>\n",
       "    </tr>\n",
       "  </thead>\n",
       "  <tbody>\n",
       "    <tr>\n",
       "      <th>0</th>\n",
       "      <td>2013-01-01</td>\n",
       "      <td>2511.618999</td>\n",
       "      <td>2013</td>\n",
       "      <td>1</td>\n",
       "      <td>1</td>\n",
       "      <td>1</td>\n",
       "      <td>0</td>\n",
       "      <td>NaN</td>\n",
       "      <td>NaN</td>\n",
       "      <td>NaN</td>\n",
       "      <td>NaN</td>\n",
       "    </tr>\n",
       "    <tr>\n",
       "      <th>1</th>\n",
       "      <td>2013-01-02</td>\n",
       "      <td>496092.417944</td>\n",
       "      <td>2013</td>\n",
       "      <td>1</td>\n",
       "      <td>2</td>\n",
       "      <td>2</td>\n",
       "      <td>0</td>\n",
       "      <td>2511.618999</td>\n",
       "      <td>NaN</td>\n",
       "      <td>NaN</td>\n",
       "      <td>NaN</td>\n",
       "    </tr>\n",
       "    <tr>\n",
       "      <th>2</th>\n",
       "      <td>2013-01-03</td>\n",
       "      <td>361461.231124</td>\n",
       "      <td>2013</td>\n",
       "      <td>1</td>\n",
       "      <td>3</td>\n",
       "      <td>3</td>\n",
       "      <td>0</td>\n",
       "      <td>496092.417944</td>\n",
       "      <td>NaN</td>\n",
       "      <td>NaN</td>\n",
       "      <td>NaN</td>\n",
       "    </tr>\n",
       "    <tr>\n",
       "      <th>3</th>\n",
       "      <td>2013-01-04</td>\n",
       "      <td>354459.677093</td>\n",
       "      <td>2013</td>\n",
       "      <td>1</td>\n",
       "      <td>4</td>\n",
       "      <td>4</td>\n",
       "      <td>0</td>\n",
       "      <td>361461.231124</td>\n",
       "      <td>NaN</td>\n",
       "      <td>NaN</td>\n",
       "      <td>NaN</td>\n",
       "    </tr>\n",
       "    <tr>\n",
       "      <th>4</th>\n",
       "      <td>2013-01-05</td>\n",
       "      <td>477350.121229</td>\n",
       "      <td>2013</td>\n",
       "      <td>1</td>\n",
       "      <td>5</td>\n",
       "      <td>5</td>\n",
       "      <td>1</td>\n",
       "      <td>354459.677093</td>\n",
       "      <td>NaN</td>\n",
       "      <td>NaN</td>\n",
       "      <td>NaN</td>\n",
       "    </tr>\n",
       "  </tbody>\n",
       "</table>\n",
       "</div>"
      ],
      "text/plain": [
       "         date    total_sales  year  month  day  dayofweek  is_weekend  \\\n",
       "0  2013-01-01    2511.618999  2013      1    1          1           0   \n",
       "1  2013-01-02  496092.417944  2013      1    2          2           0   \n",
       "2  2013-01-03  361461.231124  2013      1    3          3           0   \n",
       "3  2013-01-04  354459.677093  2013      1    4          4           0   \n",
       "4  2013-01-05  477350.121229  2013      1    5          5           1   \n",
       "\n",
       "   sales_yesterday  sales_last_week  sales_avg_7d  sales_avg_30d  \n",
       "0              NaN              NaN           NaN            NaN  \n",
       "1      2511.618999              NaN           NaN            NaN  \n",
       "2    496092.417944              NaN           NaN            NaN  \n",
       "3    361461.231124              NaN           NaN            NaN  \n",
       "4    354459.677093              NaN           NaN            NaN  "
      ]
     },
     "execution_count": 11,
     "metadata": {},
     "output_type": "execute_result"
    }
   ],
   "source": [
    "df=pd.read_csv(\"../data/daily_sales.csv\")\n",
    "df.head()"
   ]
  },
  {
   "cell_type": "code",
   "execution_count": 3,
   "id": "dba2c8d7",
   "metadata": {},
   "outputs": [],
   "source": [
    "df['date']=pd.to_datetime(df['date'])"
   ]
  },
  {
   "cell_type": "code",
   "execution_count": 5,
   "id": "907091be",
   "metadata": {},
   "outputs": [
    {
     "name": "stdout",
     "output_type": "stream",
     "text": [
      "Shape: (1684, 11)\n",
      "        date    total_sales  year  month  day  dayofweek  is_weekend  \\\n",
      "0 2013-01-01    2511.618999  2013      1    1          1           0   \n",
      "1 2013-01-02  496092.417944  2013      1    2          2           0   \n",
      "2 2013-01-03  361461.231124  2013      1    3          3           0   \n",
      "3 2013-01-04  354459.677093  2013      1    4          4           0   \n",
      "4 2013-01-05  477350.121229  2013      1    5          5           1   \n",
      "\n",
      "   sales_yesterday  sales_last_week  sales_avg_7d  sales_avg_30d  \n",
      "0              NaN              NaN           NaN            NaN  \n",
      "1      2511.618999              NaN           NaN            NaN  \n",
      "2    496092.417944              NaN           NaN            NaN  \n",
      "3    361461.231124              NaN           NaN            NaN  \n",
      "4    354459.677093              NaN           NaN            NaN  \n"
     ]
    }
   ],
   "source": [
    "print(f\"Shape: {df.shape}\")\n",
    "print(df.head())"
   ]
  },
  {
   "cell_type": "code",
   "execution_count": 4,
   "id": "0d88e73f",
   "metadata": {},
   "outputs": [],
   "source": [
    "#  Add time features\n",
    "df['year'] = df['date'].dt.year\n",
    "df['month'] = df['date'].dt.month\n",
    "df['day'] = df['date'].dt.day\n",
    "df['dayofweek'] = df['date'].dt.dayofweek\n",
    "df['is_weekend'] = (df['date'].dt.dayofweek >= 5).astype(int)"
   ]
  },
  {
   "cell_type": "code",
   "execution_count": 6,
   "id": "58066085",
   "metadata": {},
   "outputs": [
    {
     "name": "stdout",
     "output_type": "stream",
     "text": [
      "Added lag features\n"
     ]
    }
   ],
   "source": [
    "#  Add lag features\n",
    "df = df.sort_values('date')\n",
    "df['sales_yesterday'] = df['total_sales'].shift(1)\n",
    "df['sales_last_week'] = df['total_sales'].shift(7)\n",
    "\n",
    "print(\"Added lag features\")"
   ]
  },
  {
   "cell_type": "code",
   "execution_count": 7,
   "id": "68170b56",
   "metadata": {},
   "outputs": [],
   "source": [
    "# Add moving averages\n",
    "df['sales_avg_7d'] = df['total_sales'].rolling(7).mean()\n",
    "df['sales_avg_30d'] = df['total_sales'].rolling(30).mean()"
   ]
  },
  {
   "cell_type": "code",
   "execution_count": 8,
   "id": "42c9d734",
   "metadata": {},
   "outputs": [
    {
     "name": "stdout",
     "output_type": "stream",
     "text": [
      "Saved processed data\n",
      "Final shape: (1684, 11)\n"
     ]
    }
   ],
   "source": [
    "df.to_csv('../data/daily_sales.csv', index=False)\n",
    "print(\"Saved processed data\")\n",
    "print(f\"Final shape: {df.shape}\")"
   ]
  },
  {
   "cell_type": "code",
   "execution_count": 9,
   "id": "69ca0557",
   "metadata": {},
   "outputs": [
    {
     "data": {
      "text/plain": [
       "date                0\n",
       "total_sales         0\n",
       "year                0\n",
       "month               0\n",
       "day                 0\n",
       "dayofweek           0\n",
       "is_weekend          0\n",
       "sales_yesterday     1\n",
       "sales_last_week     7\n",
       "sales_avg_7d        6\n",
       "sales_avg_30d      29\n",
       "dtype: int64"
      ]
     },
     "execution_count": 9,
     "metadata": {},
     "output_type": "execute_result"
    }
   ],
   "source": [
    "df.isnull().sum()"
   ]
  },
  {
   "cell_type": "code",
   "execution_count": null,
   "id": "dba56b8a",
   "metadata": {},
   "outputs": [],
   "source": []
  }
 ],
 "metadata": {
  "kernelspec": {
   "display_name": "Python 3",
   "language": "python",
   "name": "python3"
  },
  "language_info": {
   "codemirror_mode": {
    "name": "ipython",
    "version": 3
   },
   "file_extension": ".py",
   "mimetype": "text/x-python",
   "name": "python",
   "nbconvert_exporter": "python",
   "pygments_lexer": "ipython3",
   "version": "3.10.18"
  }
 },
 "nbformat": 4,
 "nbformat_minor": 5
}
